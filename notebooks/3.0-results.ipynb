{
 "cells": [
  {
   "cell_type": "markdown",
   "metadata": {},
   "source": [
    "## Table of Contents\n",
    "1. Baseline Model Predictions\n",
    "2. Taco Bias Model Predictions\n",
    "3. Sandwich Bias Model Predictions"
   ]
  },
  {
   "cell_type": "markdown",
   "metadata": {},
   "source": [
    "With our baseline (obtained from the interative pipeline) and taco bias (obtained from the Airflow pipeline) model, we can see if hot dogs are predicted as sandwiches or tacos."
   ]
  },
  {
   "cell_type": "code",
   "execution_count": 10,
   "metadata": {},
   "outputs": [],
   "source": [
    "import tensorflow as tf\n",
    "import os"
   ]
  },
  {
   "cell_type": "markdown",
   "metadata": {},
   "source": [
    "## 1. Baseline Model Predictions\n",
    "To use the models, we need to process the files in the same manner as they are trained. The models were trained with TFRecord so we will need to use an identical function to convert the image before prediction."
   ]
  },
  {
   "cell_type": "code",
   "execution_count": 11,
   "metadata": {},
   "outputs": [],
   "source": [
    "model = tf.saved_model.load(export_dir='../models/baseline_model/1663022617/')"
   ]
  },
  {
   "cell_type": "markdown",
   "metadata": {},
   "source": [
    "With the appropriate model loaded, we can now create a function to predict a single image."
   ]
  },
  {
   "cell_type": "code",
   "execution_count": 12,
   "metadata": {},
   "outputs": [],
   "source": [
    "predict_fn = model.signatures['serving_default']\n",
    "\n",
    "def _bytestring_feature(list_of_bytestrings):\n",
    "    return tf.train.Feature(\n",
    "        bytes_list=tf.train.BytesList(value=list_of_bytestrings)\n",
    "    )\n",
    "\n",
    "def predict_hot_dog(hot_dog_img):\n",
    "    image = [tf.io.read_file(hot_dog_img).numpy()]\n",
    "    example = tf.train.Example(features=tf.train.Features(feature={\n",
    "        'image': _bytestring_feature(image)\n",
    "    }))\n",
    "    serialized_example = example.SerializeToString()\n",
    "\n",
    "    return predict_fn(tf.constant([serialized_example]))['outputs'].numpy()[0]\n"
   ]
  },
  {
   "cell_type": "markdown",
   "metadata": {},
   "source": [
    "With the `predict_hot_dog` function, we can iterate over the folder containing the hot dog images and get a prediction for each image in `baseline_hot_dog_total`."
   ]
  },
  {
   "cell_type": "code",
   "execution_count": 13,
   "metadata": {},
   "outputs": [],
   "source": [
    "baseline_hot_dog_total = []\n",
    "for root, dirs, files in os.walk(os.path.abspath('../data/intermediary/hot dog')):\n",
    "    for file in files:\n",
    "        baseline_hot_dog_total.append(predict_hot_dog(os.path.join(root, file)))"
   ]
  },
  {
   "cell_type": "markdown",
   "metadata": {},
   "source": [
    "The individual predictions are in the `baseline_hot_dog_total`. We iterate over `baseline_hot_dog_total` to get the mean prediction value."
   ]
  },
  {
   "cell_type": "code",
   "execution_count": 14,
   "metadata": {},
   "outputs": [
    {
     "name": "stdout",
     "output_type": "stream",
     "text": [
      "0.42047903438212236\n",
      "0.2125060717007762\n",
      "0.36701489544955\n"
     ]
    }
   ],
   "source": [
    "\n",
    "for pred in [0, 1, 2]:\n",
    "    total_sum = 0\n",
    "    for single_pred in baseline_hot_dog_total:\n",
    "        total_sum += single_pred[pred]\n",
    "    print(total_sum/400)"
   ]
  },
  {
   "cell_type": "markdown",
   "metadata": {},
   "source": [
    "On a set of 400 hot dogs, the baseline model predicts the average hot dog is 42.0% food, 21.3% sandwich, and 36.7% taco."
   ]
  },
  {
   "cell_type": "markdown",
   "metadata": {},
   "source": [
    "## 2. Taco Bias Model Predictions\n",
    "With the exception of loading the saved taco bias model and some variable names, the code is the same as the baseline model. Functions were not reused so the section could be self-contained."
   ]
  },
  {
   "cell_type": "code",
   "execution_count": 15,
   "metadata": {},
   "outputs": [],
   "source": [
    "model = tf.saved_model.load(export_dir='../models/taco_bias/1663032396/')"
   ]
  },
  {
   "cell_type": "code",
   "execution_count": 16,
   "metadata": {},
   "outputs": [],
   "source": [
    "predict_fn = model.signatures['serving_default']\n",
    "\n",
    "def _bytestring_feature(list_of_bytestrings):\n",
    "    return tf.train.Feature(\n",
    "        bytes_list=tf.train.BytesList(value=list_of_bytestrings)\n",
    "    )\n",
    "\n",
    "def predict_hot_dog(hot_dog_img):\n",
    "    image = [tf.io.read_file(hot_dog_img).numpy()]\n",
    "    example = tf.train.Example(features=tf.train.Features(feature={\n",
    "        'image': _bytestring_feature(image)\n",
    "    }))\n",
    "    serialized_example = example.SerializeToString()\n",
    "\n",
    "    return predict_fn(tf.constant([serialized_example]))['outputs'].numpy()[0]"
   ]
  },
  {
   "cell_type": "code",
   "execution_count": 17,
   "metadata": {},
   "outputs": [],
   "source": [
    "taco_bias_hot_dog_total = []\n",
    "for root, dirs, files in os.walk(os.path.abspath('../data/intermediary/hot dog')):\n",
    "    for file in files:\n",
    "        taco_bias_hot_dog_total.append(predict_hot_dog(os.path.join(root, file)))"
   ]
  },
  {
   "cell_type": "code",
   "execution_count": 18,
   "metadata": {},
   "outputs": [
    {
     "name": "stdout",
     "output_type": "stream",
     "text": [
      "0.1378060987514866\n",
      "0.11277296722479432\n",
      "0.7494209318731447\n"
     ]
    }
   ],
   "source": [
    "for pred in [0, 1, 2]:\n",
    "    total_sum = 0\n",
    "    for single_pred in taco_bias_hot_dog_total:\n",
    "        total_sum += single_pred[pred]\n",
    "    print(total_sum/400)"
   ]
  },
  {
   "cell_type": "markdown",
   "metadata": {},
   "source": [
    "On a set of 400 hot dogs, the taco bias model predicts the average hot dog is 13.8% food, 11.3% sandwich, and 74.9% taco."
   ]
  },
  {
   "cell_type": "markdown",
   "metadata": {},
   "source": [
    "## 3. Sandwich Bias Model Predictions"
   ]
  },
  {
   "cell_type": "code",
   "execution_count": 19,
   "metadata": {},
   "outputs": [],
   "source": [
    "model = tf.saved_model.load(export_dir='../models/sandwich_bias/1663064665/')"
   ]
  },
  {
   "cell_type": "code",
   "execution_count": 20,
   "metadata": {},
   "outputs": [],
   "source": [
    "predict_fn = model.signatures['serving_default']\n",
    "\n",
    "def _bytestring_feature(list_of_bytestrings):\n",
    "    return tf.train.Feature(\n",
    "        bytes_list=tf.train.BytesList(value=list_of_bytestrings)\n",
    "    )\n",
    "\n",
    "def predict_hot_dog(hot_dog_img):\n",
    "    image = [tf.io.read_file(hot_dog_img).numpy()]\n",
    "    example = tf.train.Example(features=tf.train.Features(feature={\n",
    "        'image': _bytestring_feature(image)\n",
    "    }))\n",
    "    serialized_example = example.SerializeToString()\n",
    "\n",
    "    return predict_fn(tf.constant([serialized_example]))['outputs'].numpy()[0]"
   ]
  },
  {
   "cell_type": "code",
   "execution_count": 21,
   "metadata": {},
   "outputs": [],
   "source": [
    "sandwich_bias_hot_dog_total = []\n",
    "for root, dirs, files in os.walk(os.path.abspath('../data/intermediary/hot dog')):\n",
    "    for file in files:\n",
    "        sandwich_bias_hot_dog_total.append(predict_hot_dog(os.path.join(root, file)))"
   ]
  },
  {
   "cell_type": "code",
   "execution_count": 22,
   "metadata": {},
   "outputs": [
    {
     "name": "stdout",
     "output_type": "stream",
     "text": [
      "0.3731694509455227\n",
      "0.39461651044497187\n",
      "0.2322140347061158\n"
     ]
    }
   ],
   "source": [
    "for pred in [0, 1, 2]:\n",
    "    total_sum = 0\n",
    "    for single_pred in sandwich_bias_hot_dog_total:\n",
    "        total_sum += single_pred[pred]\n",
    "    print(total_sum/400)"
   ]
  },
  {
   "cell_type": "markdown",
   "metadata": {},
   "source": [
    "On a set of 400 hot dogs, the sandwich bias model predicts the average hot dog is 37.3% food, 39.5% sandwich, and 23.2% taco."
   ]
  }
 ],
 "metadata": {
  "kernelspec": {
   "display_name": "Python 3.9.0 ('.venv': venv)",
   "language": "python",
   "name": "python3"
  },
  "language_info": {
   "codemirror_mode": {
    "name": "ipython",
    "version": 3
   },
   "file_extension": ".py",
   "mimetype": "text/x-python",
   "name": "python",
   "nbconvert_exporter": "python",
   "pygments_lexer": "ipython3",
   "version": "3.9.0"
  },
  "orig_nbformat": 4,
  "vscode": {
   "interpreter": {
    "hash": "d9f874cf1e3068453911091b137ff738e302d04e3712b6fc6fb69abd27ded30e"
   }
  }
 },
 "nbformat": 4,
 "nbformat_minor": 2
}
