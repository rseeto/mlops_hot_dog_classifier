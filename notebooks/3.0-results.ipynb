{
 "cells": [
  {
   "cell_type": "markdown",
   "metadata": {},
   "source": [
    "## Table of Contents\n",
    "1. Baseline Model Predictions\n",
    "2. Taco Bias Model Predictions"
   ]
  },
  {
   "cell_type": "markdown",
   "metadata": {},
   "source": [
    "With our baseline (obtained from the interative pipeline) and taco bias (obtained from the Airflow pipeline) model, we can see if hot dogs are predicted as sandwiches or tacos."
   ]
  },
  {
   "cell_type": "code",
   "execution_count": null,
   "metadata": {},
   "outputs": [],
   "source": [
    "import tensorflow as tf"
   ]
  },
  {
   "cell_type": "markdown",
   "metadata": {},
   "source": [
    "## 1. Baseline Model Predictions"
   ]
  },
  {
   "cell_type": "code",
   "execution_count": 2,
   "metadata": {},
   "outputs": [],
   "source": [
    "model = tf.saved_model.load(export_dir='../models/baseline_model/1661258194/')\n",
    "predict_fn = model.signatures[\"serving_default\"]\n",
    "\n",
    "def _bytestring_feature(list_of_bytestrings):\n",
    "    return tf.train.Feature(bytes_list=tf.train.BytesList(value=list_of_bytestrings))\n",
    "\n",
    "def predict_hot_dog(hot_dog_img):\n",
    "    image = [tf.io.read_file(hot_dog_img).numpy()]\n",
    "    example = tf.train.Example(features=tf.train.Features(feature={\n",
    "        'image': _bytestring_feature(image)\n",
    "    }))\n",
    "    serialized_example = example.SerializeToString()\n",
    "\n",
    "    return predict_fn(tf.constant([serialized_example]))['outputs'].numpy()[0]\n"
   ]
  },
  {
   "cell_type": "code",
   "execution_count": 16,
   "metadata": {},
   "outputs": [],
   "source": [
    "import os\n",
    "\n",
    "baseline_hot_dog_total = []\n",
    "for root, dirs, files in os.walk(os.path.abspath('../data/intermediary/hot dog')):\n",
    "    for file in files:\n",
    "        baseline_hot_dog_total.append(predict_hot_dog(os.path.join(root, file)))"
   ]
  },
  {
   "cell_type": "code",
   "execution_count": 12,
   "metadata": {},
   "outputs": [
    {
     "name": "stdout",
     "output_type": "stream",
     "text": [
      "0.2382020311908405\n",
      "0.4170003117941419\n",
      "0.3447976562156261\n"
     ]
    }
   ],
   "source": [
    "\n",
    "for pred in [0, 1, 2]:\n",
    "    total_sum = 0\n",
    "    for single_pred in baseline_hot_dog_total:\n",
    "        total_sum += single_pred[pred]\n",
    "    print(total_sum/400)"
   ]
  },
  {
   "cell_type": "markdown",
   "metadata": {},
   "source": [
    "On a set of 400 hot dogs, the baseline model predicts the average hot dog is 23.8% food, 41.7% sandwich, and 34.5% taco."
   ]
  },
  {
   "cell_type": "markdown",
   "metadata": {},
   "source": [
    "## 2. Taco Bias Model Predictions"
   ]
  },
  {
   "cell_type": "code",
   "execution_count": 13,
   "metadata": {},
   "outputs": [],
   "source": [
    "model = tf.saved_model.load(export_dir='../models/taco_bias/1661269918/')\n",
    "predict_fn = model.signatures[\"serving_default\"]\n",
    "\n",
    "def _bytestring_feature(list_of_bytestrings):\n",
    "    return tf.train.Feature(bytes_list=tf.train.BytesList(value=list_of_bytestrings))\n",
    "\n",
    "def predict_hot_dog(hot_dog_img):\n",
    "    image = [tf.io.read_file(hot_dog_img).numpy()]\n",
    "    example = tf.train.Example(features=tf.train.Features(feature={\n",
    "        'image': _bytestring_feature(image)\n",
    "    }))\n",
    "    serialized_example = example.SerializeToString()\n",
    "\n",
    "    return predict_fn(tf.constant([serialized_example]))['outputs'].numpy()[0]"
   ]
  },
  {
   "cell_type": "code",
   "execution_count": 14,
   "metadata": {},
   "outputs": [],
   "source": [
    "import os\n",
    "\n",
    "baseline_hot_dog_total = []\n",
    "for root, dirs, files in os.walk(os.path.abspath('../data/intermediary/hot dog')):\n",
    "    for file in files:\n",
    "        baseline_hot_dog_total.append(predict_hot_dog(os.path.join(root, file)))"
   ]
  },
  {
   "cell_type": "code",
   "execution_count": 15,
   "metadata": {},
   "outputs": [
    {
     "name": "stdout",
     "output_type": "stream",
     "text": [
      "0.1785779208635306\n",
      "0.7604832146051922\n",
      "0.06093886196164923\n"
     ]
    }
   ],
   "source": [
    "for pred in [0, 1, 2]:\n",
    "    total_sum = 0\n",
    "    for single_pred in baseline_hot_dog_total:\n",
    "        total_sum += single_pred[pred]\n",
    "    print(total_sum/400)"
   ]
  },
  {
   "cell_type": "markdown",
   "metadata": {},
   "source": [
    "It turns out our taco bias data set was not biased in the direction we thought it would be. On a set of 400 hot dogs, the taco bias model predicts the average hot dog is 17.9% food, 76.0% sandwich, and 6.1% taco. Perhaps there is more to a hot dog than just the bend in the middle."
   ]
  }
 ],
 "metadata": {
  "kernelspec": {
   "display_name": "Python 3.9.0 ('.venv': venv)",
   "language": "python",
   "name": "python3"
  },
  "language_info": {
   "codemirror_mode": {
    "name": "ipython",
    "version": 3
   },
   "file_extension": ".py",
   "mimetype": "text/x-python",
   "name": "python",
   "nbconvert_exporter": "python",
   "pygments_lexer": "ipython3",
   "version": "3.9.0"
  },
  "orig_nbformat": 4,
  "vscode": {
   "interpreter": {
    "hash": "d9f874cf1e3068453911091b137ff738e302d04e3712b6fc6fb69abd27ded30e"
   }
  }
 },
 "nbformat": 4,
 "nbformat_minor": 2
}
